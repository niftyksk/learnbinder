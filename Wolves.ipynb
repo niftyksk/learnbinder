{
 "cells": [
  {
   "cell_type": "code",
   "execution_count": null,
   "metadata": {},
   "outputs": [],
   "source": [
    "import pandas as pd \n",
    "icharts  = pd.read_csv('http://www.icharts.in/includes/screener/EODScan.php?export=1', index_col='p_symbol')\n",
    "\n",
    "# Setting Filters for icharts\n",
    "ic_volume = icharts.last_volume > 1.5* icharts.avg_volume\n",
    "ic_nearfut = icharts.index.str.contains(\"-1M\")\n",
    "ic_mfo = icharts.true_range > 9\n",
    "ic_cash = ~icharts.index.str.contains('-1M|-2M|-3M', regex=True)  # sets only for Cash\n",
    "\n",
    "ic_above20 = icharts.last_close>  icharts.sma_20\n",
    "ic_below20 = icharts.last_close< icharts.sma_20\n",
    "\n",
    "ic_above50 = icharts.last_close>  icharts.sma_50\n",
    "ic_below50 = icharts.last_close< icharts.sma_50\n",
    "\n",
    "display_cols = ['last_close','Buy Above', 'Buy Target', 'Sell Below', 'Sell Target']\n",
    "\n",
    "# Setting Anils Setup\n",
    "icharts['Buy Above'] = round(icharts['ema_5'] + (icharts['true_range'] /3))\n",
    "icharts['Buy Target'] = round(icharts ['ema_5'] + 2* (icharts['true_range'] /3))\n",
    "\n",
    "icharts['Sell Below'] = round(icharts['ema_5'] - (icharts['true_range'] /3))\n",
    "icharts['Sell Target'] = round(icharts ['ema_5'] -  2* (icharts['true_range'] /3))\n",
    "\n",
    "anil = icharts[\n",
    "\n",
    "    (icharts.last_close > icharts.ema_5) &\n",
    "    (icharts.last_close < icharts.ema_13) &\n",
    "    (icharts.true_range/3 > 3) &\n",
    "    (icharts.index.str.contains(\"-1M\"))\n",
    "]\n",
    "anil[['last_close', 'ema_5', 'ema_13','Buy Above', 'Buy Target', 'Sell Below', 'Sell Target']]\n"
   ]
  },
  {
   "cell_type": "code",
   "execution_count": null,
   "metadata": {},
   "outputs": [],
   "source": []
  }
 ],
 "metadata": {
  "kernelspec": {
   "display_name": "Python 3",
   "language": "python",
   "name": "python3"
  },
  "language_info": {
   "codemirror_mode": {
    "name": "ipython",
    "version": 3
   },
   "file_extension": ".py",
   "mimetype": "text/x-python",
   "name": "python",
   "nbconvert_exporter": "python",
   "pygments_lexer": "ipython3",
   "version": "3.6.5"
  }
 },
 "nbformat": 4,
 "nbformat_minor": 2
}
